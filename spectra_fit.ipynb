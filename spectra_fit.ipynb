{
 "cells": [
  {
   "cell_type": "code",
   "execution_count": 4,
   "metadata": {},
   "outputs": [],
   "source": [
    "from model_utils import *\n",
    "from morfeus_utils import *"
   ]
  },
  {
   "cell_type": "code",
   "execution_count": 5,
   "metadata": {},
   "outputs": [
    {
     "name": "stdout",
     "output_type": "stream",
     "text": [
      "264 matching comp and exp spectra\n",
      "on average each complex has 2.0 conformers\n"
     ]
    }
   ],
   "source": [
    "# initialize the conformer tracker\n",
    "monomers = np.arange(50)+1\n",
    "combs = []\n",
    "for comb in itertools.combinations(monomers, 2):\n",
    "    combs.append(list(comb))\n",
    "conf_tracker = dict((\"_\".join(map(str, el)), {\"exp_file\": \"\", \"comp_file\": []}) for el in combs)\n",
    "\n",
    "# identify matches with experimental data\n",
    "matches, conf_tracker = identify_matches(conf_tracker=conf_tracker)\n",
    "avg_confs = np.mean(np.array([len(conf_tracker[key]) for key in list(conf_tracker.keys())]))\n",
    "print(f\"on average each complex has {round(avg_confs, 3)} conformers\")"
   ]
  },
  {
   "cell_type": "code",
   "execution_count": 15,
   "metadata": {},
   "outputs": [
    {
     "name": "stdout",
     "output_type": "stream",
     "text": [
      "training examples: 876\n",
      "testing examples: 292\n",
      "feature size: 640\n",
      "target size: 311\n"
     ]
    }
   ],
   "source": [
    "##### PREDICTING DIMER COMPUTATIONAL SPECTRUM FROM MONOMER SPECTRA AND FINGERPRINTS #####\n",
    "\n",
    "# First load all complexes\n",
    "master = pd.read_pickle(\"complexes_1168_boltz_weighted.pkl\")\n",
    "samples = master\n",
    "\n",
    "# Load monomer data\n",
    "data = load_monomer(\"comp_spectral_data/excited_state_monomer_spectra_csvs/\", n_pts=64)\n",
    "\n",
    "# Split into train and test sets \n",
    "training, testing = split_data(samples, test_size=0.25)\n",
    "\n",
    "# Generate features from monomer spectra and fingerprints for both train and testing sets\n",
    "training = gen_features(training, \"comp_spectral_data/excited_state_monomer_spectra_csvs/\", \n",
    "                        data, monomer_features=True, add_fps=True, fp_bits=256)\n",
    "testing = gen_features(testing, \"comp_spectral_data/excited_state_monomer_spectra_csvs/\",\n",
    "                       data, monomer_features=True, add_fps=True, fp_bits=256)\n",
    "\n",
    "feature_size = len(training[\"training_features\"].tolist()[0])\n",
    "training, testing = shrink_spectrum(training, cut=1), shrink_spectrum(testing, cut=1)\n",
    "target_size = len(training[\"comp_y\"].tolist()[0])\n",
    "\n",
    "print(f\"training examples: {training.shape[0]}\\ntesting examples: {testing.shape[0]}\\nfeature size: {feature_size}\\ntarget size: {target_size}\")"
   ]
  },
  {
   "cell_type": "code",
   "execution_count": 16,
   "metadata": {},
   "outputs": [
    {
     "name": "stdout",
     "output_type": "stream",
     "text": [
      "**Using GPU**\n",
      "Training iteration 50/500 --->  loss: -0.569\n",
      "Training iteration 100/500 --->  loss: -0.766\n",
      "Training iteration 150/500 --->  loss: -0.802\n",
      "Training iteration 200/500 --->  loss: -0.821\n",
      "Training iteration 250/500 --->  loss: -0.832\n",
      "Training iteration 300/500 --->  loss: -0.840\n",
      "Training iteration 350/500 --->  loss: -0.845\n",
      "Training iteration 400/500 --->  loss: -0.848\n",
      "Training iteration 450/500 --->  loss: -0.850\n",
      "Training iteration 500/500 --->  loss: -0.851\n",
      "\n",
      "Final Loss: -0.851\n",
      "\n",
      "----- Running Predictions -----\n",
      "\n",
      "\tlabeling 1/876, train: True\n",
      "**Using GPU**\n",
      "**Using GPU**\n",
      "**Using GPU**\n",
      "**Using GPU**\n",
      "**Using GPU**\n",
      "**Using GPU**\n",
      "**Using GPU**\n",
      "**Using GPU**\n",
      "**Using GPU**\n",
      "**Using GPU**\n",
      "**Using GPU**\n",
      "**Using GPU**\n",
      "**Using GPU**\n",
      "**Using GPU**\n",
      "**Using GPU**\n",
      "**Using GPU**\n",
      "**Using GPU**\n",
      "**Using GPU**\n",
      "**Using GPU**\n",
      "**Using GPU**\n",
      "**Using GPU**\n",
      "**Using GPU**\n",
      "**Using GPU**\n",
      "**Using GPU**\n",
      "**Using GPU**\n",
      "**Using GPU**\n",
      "**Using GPU**\n",
      "**Using GPU**\n",
      "**Using GPU**\n",
      "**Using GPU**\n",
      "**Using GPU**\n",
      "**Using GPU**\n",
      "**Using GPU**\n",
      "**Using GPU**\n",
      "**Using GPU**\n",
      "**Using GPU**\n",
      "**Using GPU**\n",
      "**Using GPU**\n",
      "**Using GPU**\n",
      "**Using GPU**\n",
      "**Using GPU**\n",
      "**Using GPU**\n",
      "**Using GPU**\n",
      "**Using GPU**\n",
      "**Using GPU**\n",
      "**Using GPU**\n"
     ]
    }
   ],
   "source": [
    "# train a multitask GP to predict COMPUTATIONAL DIMER SPECTRUM from features\n",
    "GPU = torch.cuda.is_available()\n",
    "comp_model, comp_likelihood = train_multitask_GP(training, target=\"comp_y\", n_iterations=300, GPU=GPU)\n",
    "os.system(\"rm -rf after_training/\")\n",
    "\n",
    "# Run prediction and replace COMP spectra with prediction from MODEL\n",
    "mean_train_preds, training = predict(comp_model, comp_likelihood, training, target=\"comp_y\", train=True, interval=100, GPU=GPU)\n",
    "mean_test_preds, testing = predict(comp_model, comp_likelihood, testing, target=\"comp_y\", interval=50, GPU=GPU)\n",
    "\n",
    "training[\"comp_y\"] = mean_train_preds\n",
    "testing[\"comp_y\"] = mean_test_preds"
   ]
  },
  {
   "cell_type": "code",
   "execution_count": null,
   "metadata": {},
   "outputs": [],
   "source": [
    "# Rejoin training and testing DataFrames \n",
    "exp_samples = pd.concat([training, testing]).dropna()\n",
    "\n",
    "# Split into train and test sets \n",
    "training, testing = split_data(exp_samples, test_size=0.25)\n",
    "\n",
    "# Generate features from dimer spectra, monomer spectra, and fingerprints for both train and testing sets\n",
    "training = gen_features(training, \"comp_spectral_data/excited_state_monomer_spectra_csvs/\", \n",
    "                        data, monomer_features=True, add_fps=True, fp_bits=128, comp_features=True)\n",
    "testing = gen_features(testing, \"comp_spectral_data/excited_state_monomer_spectra_csvs/\",\n",
    "                       data, monomer_features=True, add_fps=True, fp_bits=128, comp_features=True)\n",
    "                       \n",
    "feature_size = len(training[\"training_features\"].tolist()[0])\n",
    "target_size = len(training[\"exp_y\"].tolist()[0])\n",
    "\n",
    "print(f\"training examples: {training.shape[0]}\\ntesting examples: {testing.shape[0]}\\nfeature size: {feature_size}\\ntarget size: {target_size}\")"
   ]
  },
  {
   "cell_type": "code",
   "execution_count": null,
   "metadata": {},
   "outputs": [],
   "source": [
    "##### predicting EXPERIMENTAL DIMER SPECTRUM from PREDICTED COMP SPECTRA, MONOMER SPECTRA, and FPs #####\n",
    "exp_model, exp_likelihood = train_multitask_GP(training, target=\"exp_y\", n_iterations=250)\n",
    "\n",
    "# Run predictions\n",
    "mean_train_preds, training = predict(exp_model, exp_likelihood, training, target=\"exp_y\", train=True, plot=True, compare=True)\n",
    "mean_test_preds, testing = predict(exp_model, exp_likelihood, testing, target=\"exp_y\", plot=True, compare=True)"
   ]
  },
  {
   "cell_type": "code",
   "execution_count": null,
   "metadata": {},
   "outputs": [],
   "source": [
    "r2_after = pd.concat([testing[\"R2_after\"], training[\"R2_after\"]])\n",
    "mae_after = pd.concat([testing[\"MAE_after\"], training[\"MAE_after\"]])"
   ]
  },
  {
   "cell_type": "code",
   "execution_count": null,
   "metadata": {},
   "outputs": [],
   "source": []
  }
 ],
 "metadata": {
  "kernelspec": {
   "display_name": "gpytorch",
   "language": "python",
   "name": "python3"
  },
  "language_info": {
   "codemirror_mode": {
    "name": "ipython",
    "version": 3
   },
   "file_extension": ".py",
   "mimetype": "text/x-python",
   "name": "python",
   "nbconvert_exporter": "python",
   "pygments_lexer": "ipython3",
   "version": "3.10.9"
  },
  "orig_nbformat": 4,
  "vscode": {
   "interpreter": {
    "hash": "d3e93e96c4ddd49033ef8e33d3308122769f03223b8ba9a0f77b90609941865f"
   }
  }
 },
 "nbformat": 4,
 "nbformat_minor": 2
}
